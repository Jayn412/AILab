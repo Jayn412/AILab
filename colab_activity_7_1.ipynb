{
  "cells": [
    {
      "cell_type": "markdown",
      "metadata": {
        "id": "view-in-github",
        "colab_type": "text"
      },
      "source": [
        "<a href=\"https://colab.research.google.com/github/Jayn412/AILab/blob/main/colab_activity_7_1.ipynb\" target=\"_parent\"><img src=\"https://colab.research.google.com/assets/colab-badge.svg\" alt=\"Open In Colab\"/></a>"
      ]
    },
    {
      "cell_type": "markdown",
      "metadata": {
        "nbgrader": {
          "grade": false,
          "grade_id": "cell-c01158b8b690d1bb",
          "locked": true,
          "schema_version": 1,
          "solution": false
        },
        "id": "j1CkjC99vFU9"
      },
      "source": [
        "## Self-Study Colab Activity 7.1: Fitting a Simple Linear Regression Line Using Plotly and Scikit-learn\n",
        "\n",
        "**Expected Time: 60 Minutes**\n",
        "\n",
        "\n",
        "\n",
        "This activity focuses on using `sklearn` to build a `LinearRegression` estimator.  For the dataset, another built-in Seaborn dataset with information on geyser explosions is used.  Using this dataset, you are to build a regression model using the wait time to predict the duration of the explosion.\n",
        "\n",
        "## Index:\n",
        "\n",
        "- [Problem 1](#Problem-1)\n",
        "- [Problem 2](#Problem-2)\n",
        "- [Problem 3](#Problem-3)\n",
        "- [Problem 4](#Problem-4)"
      ]
    },
    {
      "cell_type": "code",
      "execution_count": 1,
      "metadata": {
        "id": "1bEwYQcZvFU-"
      },
      "outputs": [],
      "source": [
        "import matplotlib.pyplot as plt\n",
        "import seaborn as sns\n",
        "import numpy as np\n",
        "import pandas as pd\n",
        "from sklearn.linear_model import LinearRegression"
      ]
    },
    {
      "cell_type": "markdown",
      "metadata": {
        "nbgrader": {
          "grade": false,
          "grade_id": "cell-b021bac35b98b9ac",
          "locked": true,
          "schema_version": 1,
          "solution": false
        },
        "id": "lAD56jhyvFU-"
      },
      "source": [
        "### The Geyser Data\n",
        "\n",
        "The dataset contains information on the waiting time for a geyser explosion, the duration of the explosion, and a categorization of the explosion duration.  This data comes from the Seaborn built-in datasets."
      ]
    },
    {
      "cell_type": "code",
      "execution_count": 2,
      "metadata": {
        "id": "m6otq_g2vFU_"
      },
      "outputs": [],
      "source": [
        "geyser = sns.load_dataset('geyser')"
      ]
    },
    {
      "cell_type": "code",
      "execution_count": 3,
      "metadata": {
        "colab": {
          "base_uri": "https://localhost:8080/",
          "height": 206
        },
        "id": "yGWVFJafvFU_",
        "outputId": "a7cd8259-96a7-4642-a0f3-e1214b9360da"
      },
      "outputs": [
        {
          "output_type": "execute_result",
          "data": {
            "text/plain": [
              "   duration  waiting   kind\n",
              "0     3.600       79   long\n",
              "1     1.800       54  short\n",
              "2     3.333       74   long\n",
              "3     2.283       62  short\n",
              "4     4.533       85   long"
            ],
            "text/html": [
              "\n",
              "  <div id=\"df-27b4124f-866d-49fd-b581-a8af24db8384\" class=\"colab-df-container\">\n",
              "    <div>\n",
              "<style scoped>\n",
              "    .dataframe tbody tr th:only-of-type {\n",
              "        vertical-align: middle;\n",
              "    }\n",
              "\n",
              "    .dataframe tbody tr th {\n",
              "        vertical-align: top;\n",
              "    }\n",
              "\n",
              "    .dataframe thead th {\n",
              "        text-align: right;\n",
              "    }\n",
              "</style>\n",
              "<table border=\"1\" class=\"dataframe\">\n",
              "  <thead>\n",
              "    <tr style=\"text-align: right;\">\n",
              "      <th></th>\n",
              "      <th>duration</th>\n",
              "      <th>waiting</th>\n",
              "      <th>kind</th>\n",
              "    </tr>\n",
              "  </thead>\n",
              "  <tbody>\n",
              "    <tr>\n",
              "      <th>0</th>\n",
              "      <td>3.600</td>\n",
              "      <td>79</td>\n",
              "      <td>long</td>\n",
              "    </tr>\n",
              "    <tr>\n",
              "      <th>1</th>\n",
              "      <td>1.800</td>\n",
              "      <td>54</td>\n",
              "      <td>short</td>\n",
              "    </tr>\n",
              "    <tr>\n",
              "      <th>2</th>\n",
              "      <td>3.333</td>\n",
              "      <td>74</td>\n",
              "      <td>long</td>\n",
              "    </tr>\n",
              "    <tr>\n",
              "      <th>3</th>\n",
              "      <td>2.283</td>\n",
              "      <td>62</td>\n",
              "      <td>short</td>\n",
              "    </tr>\n",
              "    <tr>\n",
              "      <th>4</th>\n",
              "      <td>4.533</td>\n",
              "      <td>85</td>\n",
              "      <td>long</td>\n",
              "    </tr>\n",
              "  </tbody>\n",
              "</table>\n",
              "</div>\n",
              "    <div class=\"colab-df-buttons\">\n",
              "\n",
              "  <div class=\"colab-df-container\">\n",
              "    <button class=\"colab-df-convert\" onclick=\"convertToInteractive('df-27b4124f-866d-49fd-b581-a8af24db8384')\"\n",
              "            title=\"Convert this dataframe to an interactive table.\"\n",
              "            style=\"display:none;\">\n",
              "\n",
              "  <svg xmlns=\"http://www.w3.org/2000/svg\" height=\"24px\" viewBox=\"0 -960 960 960\">\n",
              "    <path d=\"M120-120v-720h720v720H120Zm60-500h600v-160H180v160Zm220 220h160v-160H400v160Zm0 220h160v-160H400v160ZM180-400h160v-160H180v160Zm440 0h160v-160H620v160ZM180-180h160v-160H180v160Zm440 0h160v-160H620v160Z\"/>\n",
              "  </svg>\n",
              "    </button>\n",
              "\n",
              "  <style>\n",
              "    .colab-df-container {\n",
              "      display:flex;\n",
              "      gap: 12px;\n",
              "    }\n",
              "\n",
              "    .colab-df-convert {\n",
              "      background-color: #E8F0FE;\n",
              "      border: none;\n",
              "      border-radius: 50%;\n",
              "      cursor: pointer;\n",
              "      display: none;\n",
              "      fill: #1967D2;\n",
              "      height: 32px;\n",
              "      padding: 0 0 0 0;\n",
              "      width: 32px;\n",
              "    }\n",
              "\n",
              "    .colab-df-convert:hover {\n",
              "      background-color: #E2EBFA;\n",
              "      box-shadow: 0px 1px 2px rgba(60, 64, 67, 0.3), 0px 1px 3px 1px rgba(60, 64, 67, 0.15);\n",
              "      fill: #174EA6;\n",
              "    }\n",
              "\n",
              "    .colab-df-buttons div {\n",
              "      margin-bottom: 4px;\n",
              "    }\n",
              "\n",
              "    [theme=dark] .colab-df-convert {\n",
              "      background-color: #3B4455;\n",
              "      fill: #D2E3FC;\n",
              "    }\n",
              "\n",
              "    [theme=dark] .colab-df-convert:hover {\n",
              "      background-color: #434B5C;\n",
              "      box-shadow: 0px 1px 3px 1px rgba(0, 0, 0, 0.15);\n",
              "      filter: drop-shadow(0px 1px 2px rgba(0, 0, 0, 0.3));\n",
              "      fill: #FFFFFF;\n",
              "    }\n",
              "  </style>\n",
              "\n",
              "    <script>\n",
              "      const buttonEl =\n",
              "        document.querySelector('#df-27b4124f-866d-49fd-b581-a8af24db8384 button.colab-df-convert');\n",
              "      buttonEl.style.display =\n",
              "        google.colab.kernel.accessAllowed ? 'block' : 'none';\n",
              "\n",
              "      async function convertToInteractive(key) {\n",
              "        const element = document.querySelector('#df-27b4124f-866d-49fd-b581-a8af24db8384');\n",
              "        const dataTable =\n",
              "          await google.colab.kernel.invokeFunction('convertToInteractive',\n",
              "                                                    [key], {});\n",
              "        if (!dataTable) return;\n",
              "\n",
              "        const docLinkHtml = 'Like what you see? Visit the ' +\n",
              "          '<a target=\"_blank\" href=https://colab.research.google.com/notebooks/data_table.ipynb>data table notebook</a>'\n",
              "          + ' to learn more about interactive tables.';\n",
              "        element.innerHTML = '';\n",
              "        dataTable['output_type'] = 'display_data';\n",
              "        await google.colab.output.renderOutput(dataTable, element);\n",
              "        const docLink = document.createElement('div');\n",
              "        docLink.innerHTML = docLinkHtml;\n",
              "        element.appendChild(docLink);\n",
              "      }\n",
              "    </script>\n",
              "  </div>\n",
              "\n",
              "\n",
              "<div id=\"df-51ca1d33-041d-458e-8c3a-28c2566d0790\">\n",
              "  <button class=\"colab-df-quickchart\" onclick=\"quickchart('df-51ca1d33-041d-458e-8c3a-28c2566d0790')\"\n",
              "            title=\"Suggest charts\"\n",
              "            style=\"display:none;\">\n",
              "\n",
              "<svg xmlns=\"http://www.w3.org/2000/svg\" height=\"24px\"viewBox=\"0 0 24 24\"\n",
              "     width=\"24px\">\n",
              "    <g>\n",
              "        <path d=\"M19 3H5c-1.1 0-2 .9-2 2v14c0 1.1.9 2 2 2h14c1.1 0 2-.9 2-2V5c0-1.1-.9-2-2-2zM9 17H7v-7h2v7zm4 0h-2V7h2v10zm4 0h-2v-4h2v4z\"/>\n",
              "    </g>\n",
              "</svg>\n",
              "  </button>\n",
              "\n",
              "<style>\n",
              "  .colab-df-quickchart {\n",
              "      --bg-color: #E8F0FE;\n",
              "      --fill-color: #1967D2;\n",
              "      --hover-bg-color: #E2EBFA;\n",
              "      --hover-fill-color: #174EA6;\n",
              "      --disabled-fill-color: #AAA;\n",
              "      --disabled-bg-color: #DDD;\n",
              "  }\n",
              "\n",
              "  [theme=dark] .colab-df-quickchart {\n",
              "      --bg-color: #3B4455;\n",
              "      --fill-color: #D2E3FC;\n",
              "      --hover-bg-color: #434B5C;\n",
              "      --hover-fill-color: #FFFFFF;\n",
              "      --disabled-bg-color: #3B4455;\n",
              "      --disabled-fill-color: #666;\n",
              "  }\n",
              "\n",
              "  .colab-df-quickchart {\n",
              "    background-color: var(--bg-color);\n",
              "    border: none;\n",
              "    border-radius: 50%;\n",
              "    cursor: pointer;\n",
              "    display: none;\n",
              "    fill: var(--fill-color);\n",
              "    height: 32px;\n",
              "    padding: 0;\n",
              "    width: 32px;\n",
              "  }\n",
              "\n",
              "  .colab-df-quickchart:hover {\n",
              "    background-color: var(--hover-bg-color);\n",
              "    box-shadow: 0 1px 2px rgba(60, 64, 67, 0.3), 0 1px 3px 1px rgba(60, 64, 67, 0.15);\n",
              "    fill: var(--button-hover-fill-color);\n",
              "  }\n",
              "\n",
              "  .colab-df-quickchart-complete:disabled,\n",
              "  .colab-df-quickchart-complete:disabled:hover {\n",
              "    background-color: var(--disabled-bg-color);\n",
              "    fill: var(--disabled-fill-color);\n",
              "    box-shadow: none;\n",
              "  }\n",
              "\n",
              "  .colab-df-spinner {\n",
              "    border: 2px solid var(--fill-color);\n",
              "    border-color: transparent;\n",
              "    border-bottom-color: var(--fill-color);\n",
              "    animation:\n",
              "      spin 1s steps(1) infinite;\n",
              "  }\n",
              "\n",
              "  @keyframes spin {\n",
              "    0% {\n",
              "      border-color: transparent;\n",
              "      border-bottom-color: var(--fill-color);\n",
              "      border-left-color: var(--fill-color);\n",
              "    }\n",
              "    20% {\n",
              "      border-color: transparent;\n",
              "      border-left-color: var(--fill-color);\n",
              "      border-top-color: var(--fill-color);\n",
              "    }\n",
              "    30% {\n",
              "      border-color: transparent;\n",
              "      border-left-color: var(--fill-color);\n",
              "      border-top-color: var(--fill-color);\n",
              "      border-right-color: var(--fill-color);\n",
              "    }\n",
              "    40% {\n",
              "      border-color: transparent;\n",
              "      border-right-color: var(--fill-color);\n",
              "      border-top-color: var(--fill-color);\n",
              "    }\n",
              "    60% {\n",
              "      border-color: transparent;\n",
              "      border-right-color: var(--fill-color);\n",
              "    }\n",
              "    80% {\n",
              "      border-color: transparent;\n",
              "      border-right-color: var(--fill-color);\n",
              "      border-bottom-color: var(--fill-color);\n",
              "    }\n",
              "    90% {\n",
              "      border-color: transparent;\n",
              "      border-bottom-color: var(--fill-color);\n",
              "    }\n",
              "  }\n",
              "</style>\n",
              "\n",
              "  <script>\n",
              "    async function quickchart(key) {\n",
              "      const quickchartButtonEl =\n",
              "        document.querySelector('#' + key + ' button');\n",
              "      quickchartButtonEl.disabled = true;  // To prevent multiple clicks.\n",
              "      quickchartButtonEl.classList.add('colab-df-spinner');\n",
              "      try {\n",
              "        const charts = await google.colab.kernel.invokeFunction(\n",
              "            'suggestCharts', [key], {});\n",
              "      } catch (error) {\n",
              "        console.error('Error during call to suggestCharts:', error);\n",
              "      }\n",
              "      quickchartButtonEl.classList.remove('colab-df-spinner');\n",
              "      quickchartButtonEl.classList.add('colab-df-quickchart-complete');\n",
              "    }\n",
              "    (() => {\n",
              "      let quickchartButtonEl =\n",
              "        document.querySelector('#df-51ca1d33-041d-458e-8c3a-28c2566d0790 button');\n",
              "      quickchartButtonEl.style.display =\n",
              "        google.colab.kernel.accessAllowed ? 'block' : 'none';\n",
              "    })();\n",
              "  </script>\n",
              "</div>\n",
              "\n",
              "    </div>\n",
              "  </div>\n"
            ],
            "application/vnd.google.colaboratory.intrinsic+json": {
              "type": "dataframe",
              "variable_name": "geyser",
              "summary": "{\n  \"name\": \"geyser\",\n  \"rows\": 272,\n  \"fields\": [\n    {\n      \"column\": \"duration\",\n      \"properties\": {\n        \"dtype\": \"number\",\n        \"std\": 1.1413712511052077,\n        \"min\": 1.6,\n        \"max\": 5.1,\n        \"num_unique_values\": 126,\n        \"samples\": [\n          4.7330000000000005,\n          1.967,\n          1.85\n        ],\n        \"semantic_type\": \"\",\n        \"description\": \"\"\n      }\n    },\n    {\n      \"column\": \"waiting\",\n      \"properties\": {\n        \"dtype\": \"number\",\n        \"std\": 13,\n        \"min\": 43,\n        \"max\": 96,\n        \"num_unique_values\": 51,\n        \"samples\": [\n          96,\n          87,\n          68\n        ],\n        \"semantic_type\": \"\",\n        \"description\": \"\"\n      }\n    },\n    {\n      \"column\": \"kind\",\n      \"properties\": {\n        \"dtype\": \"category\",\n        \"num_unique_values\": 2,\n        \"samples\": [\n          \"short\",\n          \"long\"\n        ],\n        \"semantic_type\": \"\",\n        \"description\": \"\"\n      }\n    }\n  ]\n}"
            }
          },
          "metadata": {},
          "execution_count": 3
        }
      ],
      "source": [
        "geyser.head()"
      ]
    },
    {
      "cell_type": "markdown",
      "metadata": {
        "nbgrader": {
          "grade": false,
          "grade_id": "cell-ca4621af0db76630",
          "locked": true,
          "schema_version": 1,
          "solution": false
        },
        "id": "eoLfqNsHvFU_"
      },
      "source": [
        "[Back to top](#Index:)\n",
        "\n",
        "## Problem 1\n",
        "\n",
        "### Declaring `X` and `y`.  \n",
        "\n",
        "\n",
        "\n",
        "Assign the column `waiting` as a DataFrame to the variable `X` and the column `duration` as a series to the variable `y` below.  "
      ]
    },
    {
      "cell_type": "code",
      "execution_count": 9,
      "metadata": {
        "nbgrader": {
          "grade": false,
          "grade_id": "cell-b8bc4f8de3b17e42",
          "locked": false,
          "schema_version": 1,
          "solution": true
        },
        "id": "Y2ZTIxYjvFU_"
      },
      "outputs": [],
      "source": [
        "\n",
        "\n",
        "X = geyser[['waiting']]\n",
        "y = geyser['duration']\n"
      ]
    },
    {
      "cell_type": "markdown",
      "metadata": {
        "nbgrader": {
          "grade": false,
          "grade_id": "cell-3ff8053f7d1dd586",
          "locked": true,
          "schema_version": 1,
          "solution": false
        },
        "id": "jjm83kjpvFU_"
      },
      "source": [
        "[Back to top](#Index:)\n",
        "\n",
        "## Problem 2\n",
        "\n",
        "### Building a model with `LinearRegression`\n",
        "\n",
        "\n",
        "\n",
        "Below, instantiate a linear regression model using the `LinearRegression()` function. The chain the `fit()` function with the arguments `X` and `y` from above.  Make sure to use only the default settings.  Assign your regressor to the variable `linreg` below.  "
      ]
    },
    {
      "cell_type": "code",
      "execution_count": 11,
      "metadata": {
        "nbgrader": {
          "grade": false,
          "grade_id": "cell-94aea8297583c01a",
          "locked": false,
          "schema_version": 1,
          "solution": true
        },
        "colab": {
          "base_uri": "https://localhost:8080/"
        },
        "id": "76B35kzRvFU_",
        "outputId": "fd60c3a7-64f6-45dc-85ec-922e2e6be0ed"
      },
      "outputs": [
        {
          "output_type": "stream",
          "name": "stdout",
          "text": [
            "LinearRegression()\n"
          ]
        }
      ],
      "source": [
        "\n",
        "\n",
        "linreg = LinearRegression().fit(X, y)\n",
        "# Answer check\n",
        "print(linreg)"
      ]
    },
    {
      "cell_type": "markdown",
      "metadata": {
        "nbgrader": {
          "grade": false,
          "grade_id": "cell-f8910df0ddcd607f",
          "locked": true,
          "schema_version": 1,
          "solution": false
        },
        "id": "hn-NWd1vvFU_"
      },
      "source": [
        "[Back to top](#Index:)\n",
        "\n",
        "## Problem 3\n",
        "\n",
        "### Adding a prediction column\n",
        "\n",
        "\n",
        "\n",
        "Add a column, `prediction`, to the `geyser` DataFrame. To this column assign `linreg.predict(X)`.\n",
        "\n",
        "MAke sure to check that your DataFrame geyser contains the new column.\n"
      ]
    },
    {
      "cell_type": "code",
      "execution_count": 12,
      "metadata": {
        "nbgrader": {
          "grade": false,
          "grade_id": "cell-2cc296d4cf53bb86",
          "locked": false,
          "schema_version": 1,
          "solution": true
        },
        "colab": {
          "base_uri": "https://localhost:8080/"
        },
        "id": "kBCH5bGxvFU_",
        "outputId": "fb1cf60a-6e80-43b8-80bd-4e08dcafbcd7"
      },
      "outputs": [
        {
          "output_type": "stream",
          "name": "stdout",
          "text": [
            "Index(['duration', 'waiting', 'kind', 'prediction'], dtype='object')\n",
            "(272, 4)\n"
          ]
        }
      ],
      "source": [
        "\n",
        "\n",
        "geyser['prediction'] = linreg.predict(X)\n",
        "\n",
        "\n",
        "\n",
        "# Answer check\n",
        "print(geyser.columns)\n",
        "print(geyser.shape)"
      ]
    },
    {
      "cell_type": "markdown",
      "metadata": {
        "nbgrader": {
          "grade": false,
          "grade_id": "cell-b468d315356875e0",
          "locked": true,
          "schema_version": 1,
          "solution": false
        },
        "id": "ZblGnR8ovFU_"
      },
      "source": [
        "[Back to top](#Index:)\n",
        "\n",
        "## Problem 4\n",
        "\n",
        "### Equation of line\n",
        "\n",
        "\n",
        "\n",
        "The equation of the line will be of the form\n",
        "\n",
        "$$\\text{duration} = \\text{waiting}\\times \\text{slope} + \\text{intercept}$$\n",
        "\n",
        "Use the `coef_` attribute on `linreg` to assign the slope of the solution as a float correct to two decimal places to the variable `slope`.\n",
        "\n",
        "Use the `intercept_` attribute on `linreg` to assign the intercept of the solution as a float correct to two decimal places to the variable `intercept`.\n"
      ]
    },
    {
      "cell_type": "code",
      "execution_count": 16,
      "metadata": {
        "nbgrader": {
          "grade": false,
          "grade_id": "cell-86e8eb5cdc55a423",
          "locked": false,
          "schema_version": 1,
          "solution": true
        },
        "colab": {
          "base_uri": "https://localhost:8080/"
        },
        "id": "Qng_GOGovFU_",
        "outputId": "4fff4cba-f41b-465b-e4ad-73e06e1de82a"
      },
      "outputs": [
        {
          "output_type": "stream",
          "name": "stdout",
          "text": [
            "<class 'numpy.float64'>\n",
            "0.08 0.08\n"
          ]
        }
      ],
      "source": [
        "\n",
        "\n",
        "slope = round(linreg.coef_[0],2)\n",
        "intercept = round(linreg.coef_[0],2)\n",
        "\n",
        "\n",
        "# Answer check\n",
        "print(type(slope))\n",
        "print(slope, intercept)"
      ]
    },
    {
      "cell_type": "code",
      "execution_count": null,
      "metadata": {
        "id": "48-cYmUqvFU_"
      },
      "outputs": [],
      "source": []
    }
  ],
  "metadata": {
    "celltoolbar": "Create Assignment",
    "kernelspec": {
      "display_name": "Python 3 (ipykernel)",
      "language": "python",
      "name": "python3"
    },
    "language_info": {
      "codemirror_mode": {
        "name": "ipython",
        "version": 3
      },
      "file_extension": ".py",
      "mimetype": "text/x-python",
      "name": "python",
      "nbconvert_exporter": "python",
      "pygments_lexer": "ipython3",
      "version": "3.12.1"
    },
    "colab": {
      "provenance": [],
      "include_colab_link": true
    }
  },
  "nbformat": 4,
  "nbformat_minor": 0
}